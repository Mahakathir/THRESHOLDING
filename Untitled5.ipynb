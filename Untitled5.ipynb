{
 "cells": [
  {
   "cell_type": "markdown",
   "id": "46e488b8",
   "metadata": {},
   "source": [
    "# Image Thrasholding"
   ]
  },
  {
   "cell_type": "code",
   "execution_count": 1,
   "id": "002ef880",
   "metadata": {},
   "outputs": [],
   "source": [
    "import cv2 as a\n",
    "import numpy as n"
   ]
  },
  {
   "cell_type": "code",
   "execution_count": 15,
   "id": "1576e509",
   "metadata": {},
   "outputs": [],
   "source": [
    "img=a.imread(\"thres.jpg\")"
   ]
  },
  {
   "cell_type": "code",
   "execution_count": 16,
   "id": "002dfc4b",
   "metadata": {},
   "outputs": [],
   "source": [
    "grey=a.imread(\"thres.jpg\",0)"
   ]
  },
  {
   "cell_type": "code",
   "execution_count": 19,
   "id": "6af32838",
   "metadata": {},
   "outputs": [],
   "source": [
    "a.imshow(\"img\",img)\n",
    "a.waitKey(0)\n",
    "a.destroyAllWindows()\n",
    "a.imshow(\"grey\",grey)\n",
    "a.waitKey(0)\n",
    "a.destroyAllWindows()"
   ]
  },
  {
   "cell_type": "code",
   "execution_count": 21,
   "id": "7de580cb",
   "metadata": {},
   "outputs": [],
   "source": [
    "ret,thresh1=a.threshold(grey,15,150,a.THRESH_BINARY)\n",
    "ret,thresh2=a.threshold(grey,15,255,a.THRESH_BINARY_INV)\n",
    "ret,thresh3=a.threshold(grey,15,255,a.THRESH_TRUNC)\n",
    "ret,thresh4=a.threshold(grey,15,255,a.THRESH_TOZERO)\n",
    "ret,thresh5=a.threshold(grey,15,255,a.THRESH_TOZERO_INV)"
   ]
  },
  {
   "cell_type": "code",
   "execution_count": 23,
   "id": "cfefdaa6",
   "metadata": {},
   "outputs": [],
   "source": [
    "a.imshow(\"img1\",thresh1)\n",
    "a.imshow(\"img2\",thresh2)\n",
    "a.imshow(\"img3\",thresh3)\n",
    "a.imshow(\"img4\",thresh4)\n",
    "a.imshow(\"img5\",thresh5)\n",
    "a.waitKey(0)\n",
    "a.destroyAllWindows()"
   ]
  },
  {
   "cell_type": "markdown",
   "id": "2c8a9dd3",
   "metadata": {},
   "source": [
    "# Simple & Adaptive threshold. "
   ]
  },
  {
   "cell_type": "code",
   "execution_count": 34,
   "id": "0a503ecd",
   "metadata": {},
   "outputs": [],
   "source": [
    "ret,th1=a.threshold(grey,25,255,a.THRESH_BINARY)\n",
    "athr1=a.adaptiveThreshold(grey,255,a.ADAPTIVE_THRESH_MEAN_C,a.THRESH_BINARY,21,2)\n",
    "athr2=a.adaptiveThreshold(grey,255,a.ADAPTIVE_THRESH_GAUSSIAN_C,a.THRESH_BINARY,21,2)"
   ]
  },
  {
   "cell_type": "code",
   "execution_count": 35,
   "id": "e09d4f84",
   "metadata": {},
   "outputs": [],
   "source": [
    "a.imshow(\"original\",grey)\n",
    "a.imshow(\"global\",th1)\n",
    "a.imshow(\"adaptive mean\",athr1)\n",
    "a.imshow(\"adaptivw gaussian\",athr2)\n",
    "a.waitKey(0)\n",
    "a.destroyAllWindows()"
   ]
  },
  {
   "cell_type": "code",
   "execution_count": 39,
   "id": "ee67259b",
   "metadata": {},
   "outputs": [
    {
     "data": {
      "text/plain": [
       "True"
      ]
     },
     "execution_count": 39,
     "metadata": {},
     "output_type": "execute_result"
    }
   ],
   "source": [
    "a.imwrite(\"C:/Users/MAHAKATHIR/ai(computer vision)/original.jpg\",grey)\n",
    "a.imwrite(\"C:/Users/MAHAKATHIR/ai(computer vision)/global.jpg\",th1)\n",
    "a.imwrite(\"C:/Users/MAHAKATHIR/ai(computer vision)/adaptive mean.jpg\",athr1)\n",
    "a.imwrite(\"C:/Users/MAHAKATHIR/ai(computer vision)/adaptive gaussian.jpg\",athr2)"
   ]
  },
  {
   "cell_type": "code",
   "execution_count": 41,
   "id": "4e139058",
   "metadata": {},
   "outputs": [],
   "source": [
    "re,otsu=a.threshold(grey,0,255,a.THRESH_BINARY+a.THRESH_OTSU)"
   ]
  },
  {
   "cell_type": "code",
   "execution_count": 42,
   "id": "ef052994",
   "metadata": {},
   "outputs": [],
   "source": [
    "a.imshow(\"otsu\",otsu)\n",
    "a.waitKey(0)\n",
    "a.destroyAllWindows()"
   ]
  },
  {
   "cell_type": "code",
   "execution_count": 43,
   "id": "f8cfc470",
   "metadata": {},
   "outputs": [
    {
     "data": {
      "text/plain": [
       "True"
      ]
     },
     "execution_count": 43,
     "metadata": {},
     "output_type": "execute_result"
    }
   ],
   "source": [
    "a.imwrite(\"C:/Users/MAHAKATHIR/ai(computer vision)/otsu.jpg\",otsu)"
   ]
  },
  {
   "cell_type": "code",
   "execution_count": null,
   "id": "5fd90a52",
   "metadata": {},
   "outputs": [],
   "source": []
  }
 ],
 "metadata": {
  "kernelspec": {
   "display_name": "Python 3 (ipykernel)",
   "language": "python",
   "name": "python3"
  },
  "language_info": {
   "codemirror_mode": {
    "name": "ipython",
    "version": 3
   },
   "file_extension": ".py",
   "mimetype": "text/x-python",
   "name": "python",
   "nbconvert_exporter": "python",
   "pygments_lexer": "ipython3",
   "version": "3.9.15"
  }
 },
 "nbformat": 4,
 "nbformat_minor": 5
}
